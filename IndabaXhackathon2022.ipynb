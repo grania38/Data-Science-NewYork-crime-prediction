{
  "cells": [
    {
      "cell_type": "markdown",
      "metadata": {
        "id": "view-in-github",
        "colab_type": "text"
      },
      "source": [
        "<a href=\"https://colab.research.google.com/github/grania38/Data-Science-Projects/blob/main/IndabaXhackathon2022.ipynb\" target=\"_parent\"><img src=\"https://colab.research.google.com/assets/colab-badge.svg\" alt=\"Open In Colab\"/></a>"
      ]
    },
    {
      "cell_type": "code",
      "execution_count": 150,
      "metadata": {
        "id": "iA42xoJHPBYO"
      },
      "outputs": [],
      "source": [
        "import numpy as np\n",
        "import pandas as pd\n",
        "\n",
        "from sklearn.preprocessing import LabelEncoder\n",
        "from sklearn.model_selection import train_test_split,StratifiedKFold, GridSearchCV\n",
        "import  sklearn.metrics as skmetr\n",
        "\n",
        "import gc, requests\n",
        "from tqdm import tqdm\n",
        "\n",
        "from sklearn.ensemble import RandomForestClassifier\n",
        "\n",
        "import warnings\n",
        "warnings.filterwarnings('ignore')"
      ]
    },
    {
      "cell_type": "code",
      "execution_count": 151,
      "metadata": {
        "id": "INeOALnqP0S9",
        "colab": {
          "base_uri": "https://localhost:8080/"
        },
        "outputId": "ba1e0656-be3f-4597-f54b-9f40ca99bcff"
      },
      "outputs": [
        {
          "output_type": "stream",
          "name": "stdout",
          "text": [
            "Drive already mounted at /content/drive; to attempt to forcibly remount, call drive.mount(\"/content/drive\", force_remount=True).\n"
          ]
        }
      ],
      "source": [
        "from google.colab import drive\n",
        "drive.mount('/content/drive')"
      ]
    },
    {
      "cell_type": "code",
      "execution_count": 152,
      "metadata": {
        "id": "4HJufxkHP1Az"
      },
      "outputs": [],
      "source": [
        "train = pd.read_csv('/content/drive/MyDrive/train.csv')\n",
        "test = pd.read_csv('/content/drive/MyDrive/test.csv')\n",
        "# some sesquences have more than 1 embedding so we need to groupby by sequence and aggregate by mean\n",
        "\n",
        "embedding_cls = pd.read_csv('/content/drive/MyDrive/sequence_esm1b_cls_embeddings_df.csv').groupby('sequence').mean().reset_index() \n",
        "embedding_mean = pd.read_csv('/content/drive/MyDrive/sequence_esm1b_mean_embeddings_df.csv').groupby('sequence').mean().reset_index()"
      ]
    },
    {
      "cell_type": "code",
      "execution_count": 153,
      "metadata": {
        "id": "ik0rkvB-QSiQ"
      },
      "outputs": [],
      "source": [
        "LE = LabelEncoder()\n",
        "embedding_cls['sequence_enc']  = LE.fit_transform(embedding_cls['sequence'])\n",
        "embedding_mean['sequence_enc'] = LE.transform(embedding_mean['sequence'])\n",
        "\n",
        "train['sequence_enc']          = LE.transform(train['sequence'])\n",
        "test['sequence_enc']           = LE.transform(test['sequence'])"
      ]
    },
    {
      "cell_type": "code",
      "execution_count": 154,
      "metadata": {
        "id": "iiqQlekxSf1Y"
      },
      "outputs": [],
      "source": [
        "train_cls = pd.merge(train,embedding_cls.drop('sequence',1),on='sequence_enc',how='left')\n",
        "test_cls  = pd.merge(test,embedding_cls.drop('sequence',1),on='sequence_enc',how='left')\n",
        "\n",
        "train_mean = pd.merge(train,embedding_mean.drop('sequence',1),on='sequence_enc',how='left')\n",
        "test_mean  = pd.merge(test,embedding_mean.drop('sequence',1),on='sequence_enc',how='left')"
      ]
    },
    {
      "cell_type": "code",
      "execution_count": 155,
      "metadata": {
        "id": "xUqmtps2Si48"
      },
      "outputs": [],
      "source": [
        "n_splits = 10\n",
        "def kfold_split(Train,y):\n",
        "    Train[\"folds\"]=-1\n",
        "    kf = skf = StratifiedKFold(n_splits=n_splits, shuffle=True, random_state=42)\n",
        "    for fold, (_, val_index) in enumerate(kf.split(Train,y)):\n",
        "            Train.loc[val_index, \"folds\"] = fold\n",
        "    return Train\n",
        "\n",
        "target_cols = ['label']\n",
        "train_mean = kfold_split(train_mean,train_mean[target_cols])\n",
        "train_cls = kfold_split(train_cls,train_cls[target_cols])"
      ]
    },
    {
      "cell_type": "code",
      "execution_count": 156,
      "metadata": {
        "id": "0jxUo-7wSrry"
      },
      "outputs": [],
      "source": [
        "to_drop = ['ID', 'sequence', 'sequence_enc',]\n",
        "target_cols = ['label']\n",
        "data2_tr  = train_mean.drop(to_drop+target_cols,1)\n",
        "data2_tst = test_mean.drop(to_drop,1)"
      ]
    },
    {
      "cell_type": "code",
      "execution_count": 171,
      "metadata": {
        "colab": {
          "base_uri": "https://localhost:8080/"
        },
        "id": "TDS723UZ1Cwx",
        "outputId": "90f71338-3769-44f9-fe47-6831e7f27587"
      },
      "outputs": [
        {
          "output_type": "stream",
          "name": "stdout",
          "text": [
            "#########################  Fold 1/10  #########################\n",
            "0.9949367088607595\n"
          ]
        }
      ],
      "source": [
        "\n",
        "# modeling step \n",
        "import lightgbm as lgb\n",
        "Test = data2_tst.copy()\n",
        "y = train_mean[\"label\"].values\n",
        "from sklearn.metrics import accuracy_score\n",
        "for fold in range(n_splits):\n",
        "  print(f\"#########################  Fold {fold+1}/{n_splits}  #########################\")\n",
        "  train_df = data2_tr[data2_tr['folds']!=fold]\n",
        "  valid_df = data2_tr[data2_tr['folds']==fold]\n",
        "\n",
        "  train_df_index = data2_tr[data2_tr['folds']!=fold].index\n",
        "  valid_df_index = data2_tr[data2_tr['folds']==fold].index\n",
        "\n",
        "  X_train = train_df.drop('folds',1)\n",
        "  X_test  = valid_df.drop('folds',1)\n",
        "\n",
        "  y_train=y[train_df_index]\n",
        "  y_test=y[valid_df_index]\n",
        "      \n",
        "  clf = lgb.LGBMClassifier(boosting_type='dart', num_leaves=31, max_depth=-1, learning_rate=0.1, n_estimators=100)\n",
        "  clf.fit(X_train,y_train)\n",
        "  #print(clf.score(X_train, y_train))\n",
        "  test_preds = clf.predict_proba(Test)[:,1]\n",
        "  pred = clf.predict(X_test)\n",
        "  print(accuracy_score(y_test, pred))\n",
        "  # param_grid = {\n",
        "  #     'learning_rate': [0.005, 0.01],\n",
        "  #     'n_estimators': [8,16,24],\n",
        "  #     'num_leaves': [6,8,12,16], # large num_leaves helps improve accuracy but might lead to over-fitting\n",
        "  #     'boosting_type' : ['gbdt', 'dart'], # for better accuracy -> try dart\n",
        "  #     'objective' : ['binary'],\n",
        "  #     'max_bin':[255, 510], # large max_bin helps improve accuracy but might slow down training progress\n",
        "  #     'random_state' : [500],\n",
        "  #     'colsample_bytree' : [0.64, 0.65, 0.66],\n",
        "  #     'subsample' : [0.7,0.75],\n",
        "  #     'reg_alpha' : [1,1.2],\n",
        "  #     'reg_lambda' : [1,1.2,1.4],\n",
        "  #     }\n",
        "  # grid_search = GridSearchCV(estimator=lgb.LGBMClassifier(), param_grid=param_grid)\n",
        "  # grid_search.fit(X_train,y_train)\n",
        "  # print(param_grid.best_params_)\n",
        "  break "
      ]
    },
    {
      "cell_type": "code",
      "execution_count": 164,
      "metadata": {
        "id": "syZe5hLk1rdh"
      },
      "outputs": [],
      "source": [
        "test_ = test[['ID']].copy()\n",
        "test_[\"label\"] = test_preds"
      ]
    },
    {
      "cell_type": "code",
      "execution_count": 165,
      "metadata": {
        "id": "psP-Uh-C1xUF"
      },
      "outputs": [],
      "source": [
        "test_.head()\n",
        "test_.to_csv('Starter_notebook.csv',index=False)"
      ]
    },
    {
      "cell_type": "code",
      "execution_count": null,
      "metadata": {
        "id": "uDa9Yznu1zYP"
      },
      "outputs": [],
      "source": []
    }
  ],
  "metadata": {
    "colab": {
      "provenance": [],
      "authorship_tag": "ABX9TyOhF164EEkHPsuhMJTGwtDV",
      "include_colab_link": true
    },
    "kernelspec": {
      "display_name": "Python 3",
      "name": "python3"
    },
    "language_info": {
      "name": "python"
    }
  },
  "nbformat": 4,
  "nbformat_minor": 0
}